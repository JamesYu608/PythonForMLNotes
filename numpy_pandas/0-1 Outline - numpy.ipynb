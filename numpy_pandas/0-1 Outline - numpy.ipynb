{
 "cells": [
  {
   "cell_type": "markdown",
   "metadata": {
    "collapsed": true
   },
   "source": [
    "# numpy\n",
    "NumPy is the fundamental package for <font color='blue'>scientific computing</font> with Python\n",
    "* 建立Array (ndarray)\n",
    "    * list: `np.array(my_list)`\n",
    "    * range: `np.arange(2, 5)`\n",
    "    * 全部0: `np.zeros(5)`\n",
    "    * 全部1: `np.ones([2, 3])`\n",
    "    * 全部empty: `np.empty([3, 3])`\n",
    "    * 對角線為1: `np.eye(3)`\n",
    "* 對array中的所有elements做四則運算\n",
    "* Indexing Arrays\n",
    "    * 基本的index / slice操作，如同list，但是slice的區段可以改變原值\n",
    "* 2d array\n",
    "    * Slicing\n",
    "    * Size\n",
    "    * 選取特定row index\n",
    "* Array Transposition\n",
    "    * Transpose\n",
    "    * Dot product (內積/點積)\n",
    "    * Transpose 3d matrix with axes (e.g. `arr3d.transpose([1, 0, 2])`，<font color='red'>現在還不太懂意思</font>)\n",
    "    * Swap axes (e.g. `arr.swapaxes(0, 1)`，<font color='red'>現在還不太懂意思</font>)\n",
    "* 資料視覺化 (`import matplotlib.pyplot as plt`)\n",
    "* `np.where(condition, A, B)`\n",
    "* Array attributes / build-in methods ([available-ufuncs](http://docs.scipy.org/doc/numpy/reference/ufuncs.html#available-ufuncs))\n",
    "    * Size: `my_array.shape`\n",
    "    * Data Type: `my_array.dtype`\n",
    "    * Copy: `my_array.copy()`\n",
    "    * Reshape: `my_array.reshape([10, 5])`\n",
    "    * 開根號: `np.sqrt(arr)`\n",
    "    * 指數(e^): `np.exp(arr)`\n",
    "    * 亂數產生常態分佈: `np.random.randn(10)`\n",
    "    * 找出較大的值: `np.maximum(A, B)`\n",
    "    * 產生網格矩陣: `np.meshgrid(points, points)`\n",
    "    * 統計相關\n",
    "        * Sum: `arr.sum()`\n",
    "        * Mean: `arr.mean()`\n",
    "        * Variance: `arr.var()`\n",
    "        * Standard Deviation: `arr.std()`\n",
    "        * Sort: `arr.sort()`\n",
    "        * any / all: `bool_arr.any()` / `bool_arr.all()`\n",
    "        * Unique: `np.unique(countries)`\n",
    "        * 是否有在1-D array裡面: `np.in1d(['France','USA','Sweden'], countries)`\n",
    "* Array Input and Output\n",
    "    * 單一array存成.npy\n",
    "    * 多個array打包.npz\n",
    "    * 存成.txt"
   ]
  },
  {
   "cell_type": "code",
   "execution_count": null,
   "metadata": {
    "collapsed": true
   },
   "outputs": [],
   "source": []
  }
 ],
 "metadata": {
  "kernelspec": {
   "display_name": "Python 2",
   "language": "python",
   "name": "python2"
  },
  "language_info": {
   "codemirror_mode": {
    "name": "ipython",
    "version": 2
   },
   "file_extension": ".py",
   "mimetype": "text/x-python",
   "name": "python",
   "nbconvert_exporter": "python",
   "pygments_lexer": "ipython2",
   "version": "2.7.11"
  }
 },
 "nbformat": 4,
 "nbformat_minor": 0
}
